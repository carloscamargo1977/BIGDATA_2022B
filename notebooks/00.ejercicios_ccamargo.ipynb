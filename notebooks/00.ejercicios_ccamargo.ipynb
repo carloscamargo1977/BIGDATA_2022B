{
 "cells": [
  {
   "cell_type": "markdown",
   "metadata": {},
   "source": [
    "# Ejercicios def\n",
    "\n",
    "Las funciones son bloques de codigo que extraen logicas que nosotros podemos aplicar a algun argumento de los que las funciones dependen\n",
    "\n",
    "La funciones siempre tienen 3 partes bien definidas \n",
    "\n",
    "1 El Nombre que las define\n",
    "2 los Argumentos de los que puedes depender\n",
    "3 Cual es el valor que devuelve "
   ]
  },
  {
   "cell_type": "code",
   "execution_count": 1,
   "metadata": {},
   "outputs": [
    {
     "name": "stdout",
     "output_type": "stream",
     "text": [
      "resultado Suma 25\n",
      "resultado Media 8.333333333333334\n"
     ]
    }
   ],
   "source": [
    "# Forma de operar sin definicion de funcion\n",
    "suma = 7 + 8 + 10\n",
    "media = suma/3\n",
    "print(\"resultado Suma\",suma)\n",
    "print(\"resultado Media\",media)"
   ]
  },
  {
   "cell_type": "code",
   "execution_count": 2,
   "metadata": {},
   "outputs": [
    {
     "name": "stdout",
     "output_type": "stream",
     "text": [
      "resultado Suma 25\n",
      "resultado Media 8.333333333333334\n"
     ]
    }
   ],
   "source": [
    "# Forma de operar con definicion de funcion \n",
    "def puntuacion(alumno1, alumno2, alumno3): #Nombre y definicion de la funcion  \n",
    "    suma = alumno1 + alumno2 + alumno3 #argumentos de la funcion\n",
    "    media = suma/3 #argumentos de la funcion\n",
    "    return suma, media #valor que devuelve\n",
    "    \n",
    "\n",
    "print(\"resultado Suma\",suma)\n",
    "print(\"resultado Media\",media)\n"
   ]
  },
  {
   "cell_type": "code",
   "execution_count": 3,
   "metadata": {},
   "outputs": [
    {
     "name": "stdout",
     "output_type": "stream",
     "text": [
      "Comienzo del programa\n",
      "7 * 5 = 35\n",
      "Siguiente\n",
      "113 * 5 = 565\n",
      "Fin\n"
     ]
    }
   ],
   "source": [
    "def multiplica_por_5(numero):\n",
    "    print(f'{numero} * 5 = {numero * 5}')\n",
    "print('Comienzo del programa')    \n",
    "multiplica_por_5(7)\n",
    "print('Siguiente')\n",
    "multiplica_por_5(113)\n",
    "print('Fin')"
   ]
  }
 ],
 "metadata": {
  "kernelspec": {
   "display_name": "Python 3.9.12 ('base')",
   "language": "python",
   "name": "python3"
  },
  "language_info": {
   "codemirror_mode": {
    "name": "ipython",
    "version": 3
   },
   "file_extension": ".py",
   "mimetype": "text/x-python",
   "name": "python",
   "nbconvert_exporter": "python",
   "pygments_lexer": "ipython3",
   "version": "3.9.12"
  },
  "orig_nbformat": 4,
  "vscode": {
   "interpreter": {
    "hash": "533400df562c0dc3167bca312445c22bb8ed30b3b588575c34f7557d474affc5"
   }
  }
 },
 "nbformat": 4,
 "nbformat_minor": 2
}
