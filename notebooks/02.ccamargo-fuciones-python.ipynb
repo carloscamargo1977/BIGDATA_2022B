{
 "cells": [
  {
   "cell_type": "markdown",
   "metadata": {},
   "source": [
    "## Funciones en Python"
   ]
  },
  {
   "cell_type": "code",
   "execution_count": 1,
   "metadata": {},
   "outputs": [
    {
     "data": {
      "text/plain": [
       "8"
      ]
     },
     "execution_count": 1,
     "metadata": {},
     "output_type": "execute_result"
    }
   ],
   "source": [
    "# funciones de x  f(x) =x+5  cuando x por ejemplo f(x=3) = 3 + 5 ===> 8\n",
    "\n",
    "def f(x):\n",
    "    resultado = x + 5\n",
    "    return resultado\n",
    "\n",
    "f(x=3)"
   ]
  },
  {
   "cell_type": "code",
   "execution_count": 2,
   "metadata": {},
   "outputs": [
    {
     "name": "stdout",
     "output_type": "stream",
     "text": [
      "x 3\n",
      "resultado 8\n"
     ]
    },
    {
     "data": {
      "text/plain": [
       "8"
      ]
     },
     "execution_count": 2,
     "metadata": {},
     "output_type": "execute_result"
    }
   ],
   "source": [
    "# funciones de x  f(x) =x+5  cuando x por ejemplo f(x=3) = 3 + 5 ===> 8\n",
    "\n",
    "from cgi import print_arguments\n",
    "\n",
    "\n",
    "def f(x):\n",
    "    resultado = x + 5\n",
    "\n",
    "    print(\"x\", x)\n",
    "    print(\"resultado\", resultado) ## para saber si funciona y mostra los pasos de la solucion\n",
    "    return resultado\n",
    "\n",
    "f(x=3)"
   ]
  },
  {
   "cell_type": "markdown",
   "metadata": {},
   "source": [
    "## Pseudo-Codigo\n",
    "Estructurar en borrador el codigo"
   ]
  },
  {
   "cell_type": "code",
   "execution_count": null,
   "metadata": {},
   "outputs": [],
   "source": [
    "# 1 quiero obtener el valor de la suma de los numero de una lista\n",
    "# 2 quiero obtener el valor minimo y maximo\n",
    "# 3 quiero obtener la media y la desviacion estantar de una lista de numeros\n",
    "\n",
    "# calcular_valores(lista_numero)\n",
    "#     summa           = calcular_suma(lista_numero)\n",
    "#     media, desv_std = calular_valores_centrales(lista_numero)\n",
    "#     min_val, max_val = calcular_extremos(lista_numero)\n",
    "#     return sum, media, desv_std, min_val, max_val"
   ]
  },
  {
   "cell_type": "code",
   "execution_count": 1,
   "metadata": {},
   "outputs": [],
   "source": [
    "import numpy as np\n",
    "\n",
    "def calcular_valores_centrales(lista_numeros):\n",
    "    media = np.mean(lista_numeros)\n",
    "    desv_std = np.std(lista_numeros)\n",
    "\n",
    "    return media, desv_std\n",
    "\n",
    "def calcular_suma(lista_numeros):\n",
    "    resultado = np.sum(lista_numeros)\n",
    "    return resultado\n",
    "\n",
    "def calular_extremos(lista_numeros):\n",
    "    min_val = np.min(lista_numeros)\n",
    "    max_val = np.max(lista_numeros)\n",
    "    return min_val, max_val\n",
    "\n",
    "def calcular_valores(lista_numeros):\n",
    "    suma = calcular_suma(lista_numeros)\n",
    "    media, desv_std = calcular_valores_centrales(lista_numeros)\n",
    "    min_val, max_val = calular_extremos(lista_numeros)\n",
    "\n",
    "    return suma, media, desv_std, min_val, max_val\n"
   ]
  },
  {
   "cell_type": "code",
   "execution_count": 9,
   "metadata": {},
   "outputs": [
    {
     "data": {
      "text/plain": [
       "152"
      ]
     },
     "execution_count": 9,
     "metadata": {},
     "output_type": "execute_result"
    }
   ],
   "source": [
    "lista_numeros = (1, 5, 8, 45, 93)\n",
    "\n",
    "calcular_suma(lista_numeros)"
   ]
  }
 ],
 "metadata": {
  "kernelspec": {
   "display_name": "Python 3.9.12 ('base')",
   "language": "python",
   "name": "python3"
  },
  "language_info": {
   "codemirror_mode": {
    "name": "ipython",
    "version": 3
   },
   "file_extension": ".py",
   "mimetype": "text/x-python",
   "name": "python",
   "nbconvert_exporter": "python",
   "pygments_lexer": "ipython3",
   "version": "3.9.12"
  },
  "orig_nbformat": 4,
  "vscode": {
   "interpreter": {
    "hash": "533400df562c0dc3167bca312445c22bb8ed30b3b588575c34f7557d474affc5"
   }
  }
 },
 "nbformat": 4,
 "nbformat_minor": 2
}
