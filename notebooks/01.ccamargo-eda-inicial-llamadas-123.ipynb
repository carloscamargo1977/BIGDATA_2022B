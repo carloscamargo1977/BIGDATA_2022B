{
 "cells": [
  {
   "cell_type": "markdown",
   "metadata": {},
   "source": [
    "#Notebook inicial de EDA para llamadas 123"
   ]
  },
  {
   "cell_type": "code",
   "execution_count": 20,
   "metadata": {},
   "outputs": [],
   "source": [
    "# importar librerias para manipulacion de datos\n",
    "import numpy  as np\n",
    "import pandas as pd\n",
    "\n",
    "# importar librerias para visualizacion\n",
    "import matplotlib.pyplot as plt\n",
    "\n",
    "\n",
    "# importar librerias internas del sistema\n",
    "import os\n",
    "from pathlib import Path # de la libreria import solo traigame Path"
   ]
  },
  {
   "cell_type": "code",
   "execution_count": 21,
   "metadata": {},
   "outputs": [
    {
     "name": "stdout",
     "output_type": "stream",
     "text": [
      "Directorio actual    C:\\Users\\ccamargo\\Documents\\BIGDATA_2022B\\notebooks\n",
      "Directorio principal C:\\Users\\ccamargo\\Documents\\BIGDATA_2022B\n"
     ]
    }
   ],
   "source": [
    "# Ruta de los archivos de datos\n",
    "\n",
    "current_dir = Path(\".\").resolve()\n",
    "project_dir = Path(current_dir).parent\n",
    "\n",
    "print(\"Directorio actual   \", current_dir)\n",
    "print(\"Directorio principal\", project_dir)"
   ]
  },
  {
   "cell_type": "code",
   "execution_count": 22,
   "metadata": {},
   "outputs": [
    {
     "name": "stdout",
     "output_type": "stream",
     "text": [
      "la ruta del directorio es c:\\Users\\ccamargo\\Documents\\BIGDATA_2022B\\notebooks\n",
      "Tambien se puede ver el directorio base c:\\Users\\ccamargo\\Documents\\BIGDATA_2022B\\notebooks\n"
     ]
    }
   ],
   "source": [
    "from importlib.resources import path\n",
    "ejemplo_dir = os.path.abspath(\".\") # sirve para ver la ruta absoluta\n",
    "\n",
    "print(\"la ruta del directorio es\", ejemplo_dir)\n",
    "print(\"Tambien se puede ver el directorio base\", ejemplo_dir)"
   ]
  },
  {
   "cell_type": "code",
   "execution_count": 23,
   "metadata": {},
   "outputs": [
    {
     "data": {
      "text/plain": [
       "'C:\\\\Users\\\\ccamargo\\\\Documents\\\\BIGDATA_2022B\\\\data\\\\raw\\\\llamadas123_julio_2022.csv'"
      ]
     },
     "execution_count": 23,
     "metadata": {},
     "output_type": "execute_result"
    }
   ],
   "source": [
    "#como extaer la ruta de una archivo desde donde estoy\n",
    "from fileinput import filename\n",
    "from logging import root\n",
    "root_dir = Path(\".\").resolve().parent\n",
    "filename = \"llamadas123_julio_2022.csv\"\n",
    "root_dir\n",
    "file_path = os.path.join(root_dir,\"data\",\"raw\",filename)\n",
    "file_path"
   ]
  },
  {
   "cell_type": "code",
   "execution_count": 24,
   "metadata": {},
   "outputs": [
    {
     "data": {
      "text/html": [
       "<div>\n",
       "<style scoped>\n",
       "    .dataframe tbody tr th:only-of-type {\n",
       "        vertical-align: middle;\n",
       "    }\n",
       "\n",
       "    .dataframe tbody tr th {\n",
       "        vertical-align: top;\n",
       "    }\n",
       "\n",
       "    .dataframe thead th {\n",
       "        text-align: right;\n",
       "    }\n",
       "</style>\n",
       "<table border=\"1\" class=\"dataframe\">\n",
       "  <thead>\n",
       "    <tr style=\"text-align: right;\">\n",
       "      <th></th>\n",
       "      <th>NUMERO_INCIDENTE</th>\n",
       "      <th>FECHA_INICIO_DESPLAZAMIENTO_MOVIL</th>\n",
       "      <th>CODIGO_LOCALIDAD</th>\n",
       "      <th>LOCALIDAD</th>\n",
       "      <th>EDAD</th>\n",
       "      <th>UNIDAD</th>\n",
       "      <th>GENERO</th>\n",
       "      <th>RED</th>\n",
       "      <th>TIPO_INCIDENTE</th>\n",
       "      <th>PRIORIDAD</th>\n",
       "      <th>RECEPCION</th>\n",
       "    </tr>\n",
       "  </thead>\n",
       "  <tbody>\n",
       "    <tr>\n",
       "      <th>0</th>\n",
       "      <td>CRU-00278353-22</td>\n",
       "      <td>2022-07-01 00:08:59</td>\n",
       "      <td>11</td>\n",
       "      <td>Suba</td>\n",
       "      <td>88</td>\n",
       "      <td>A¤os</td>\n",
       "      <td>FEMENINO</td>\n",
       "      <td>Norte</td>\n",
       "      <td>Accidente Cerebro Vascular</td>\n",
       "      <td>ALTA</td>\n",
       "      <td>2022-07-01 03:40:13</td>\n",
       "    </tr>\n",
       "    <tr>\n",
       "      <th>1</th>\n",
       "      <td>CRU-00278360-22</td>\n",
       "      <td>2022-07-01 00:14:58</td>\n",
       "      <td>11</td>\n",
       "      <td>Suba</td>\n",
       "      <td>16</td>\n",
       "      <td>A¤os</td>\n",
       "      <td>MASCULINO</td>\n",
       "      <td>Norte</td>\n",
       "      <td>Herido</td>\n",
       "      <td>ALTA</td>\n",
       "      <td>2022-07-01 03:38:13</td>\n",
       "    </tr>\n",
       "    <tr>\n",
       "      <th>2</th>\n",
       "      <td>CRU-00278365-22</td>\n",
       "      <td>2022-07-01 00:21:59</td>\n",
       "      <td>18</td>\n",
       "      <td>Rafael Uribe Uribe</td>\n",
       "      <td>52</td>\n",
       "      <td>A¤os</td>\n",
       "      <td>FEMENINO</td>\n",
       "      <td>Centro Oriente</td>\n",
       "      <td>Evento Respiratorio</td>\n",
       "      <td>CRITICA</td>\n",
       "      <td>2022-07-01 04:08:24</td>\n",
       "    </tr>\n",
       "  </tbody>\n",
       "</table>\n",
       "</div>"
      ],
      "text/plain": [
       "  NUMERO_INCIDENTE FECHA_INICIO_DESPLAZAMIENTO_MOVIL  CODIGO_LOCALIDAD  \\\n",
       "0  CRU-00278353-22               2022-07-01 00:08:59                11   \n",
       "1  CRU-00278360-22               2022-07-01 00:14:58                11   \n",
       "2  CRU-00278365-22               2022-07-01 00:21:59                18   \n",
       "\n",
       "            LOCALIDAD EDAD UNIDAD     GENERO             RED  \\\n",
       "0                Suba   88   A¤os   FEMENINO           Norte   \n",
       "1                Suba   16   A¤os  MASCULINO           Norte   \n",
       "2  Rafael Uribe Uribe   52   A¤os   FEMENINO  Centro Oriente   \n",
       "\n",
       "               TIPO_INCIDENTE PRIORIDAD            RECEPCION  \n",
       "0  Accidente Cerebro Vascular      ALTA  2022-07-01 03:40:13  \n",
       "1                      Herido      ALTA  2022-07-01 03:38:13  \n",
       "2         Evento Respiratorio   CRITICA  2022-07-01 04:08:24  "
      ]
     },
     "execution_count": 24,
     "metadata": {},
     "output_type": "execute_result"
    }
   ],
   "source": [
    "#Para leer archivos cvs\n",
    "df = pd.read_csv(file_path, sep=\";\", encoding=\"latin-1\")# indicar que el separador del archivo esta con punto y coma y que reconozca UTF-8\n",
    "df.head(3)"
   ]
  },
  {
   "cell_type": "code",
   "execution_count": 25,
   "metadata": {},
   "outputs": [
    {
     "data": {
      "text/plain": [
       "(13055, 11)"
      ]
     },
     "execution_count": 25,
     "metadata": {},
     "output_type": "execute_result"
    }
   ],
   "source": [
    "df.shape"
   ]
  },
  {
   "cell_type": "code",
   "execution_count": 8,
   "metadata": {},
   "outputs": [
    {
     "data": {
      "text/plain": [
       "13055"
      ]
     },
     "execution_count": 8,
     "metadata": {},
     "output_type": "execute_result"
    }
   ],
   "source": [
    "df = pd.read_csv(file_path, sep=\";\", encoding=\"latin-1\" ,nrows =100) # que traiga solo 100 registros\n",
    "df.head\n",
    "df.shape\n",
    "\n",
    "df= pd.read_csv(file_path, sep=\";\", encoding = \"latin-1\") # que traiga solo 100 registros\n",
    "df.shape[0] #contar solo filas, con la posiscion 0 son filas y l aposicion 1 son columnas"
   ]
  },
  {
   "cell_type": "code",
   "execution_count": 26,
   "metadata": {},
   "outputs": [
    {
     "data": {
      "text/plain": [
       "NUMERO_INCIDENTE                     object\n",
       "FECHA_INICIO_DESPLAZAMIENTO_MOVIL    object\n",
       "CODIGO_LOCALIDAD                      int64\n",
       "LOCALIDAD                            object\n",
       "EDAD                                 object\n",
       "UNIDAD                               object\n",
       "GENERO                               object\n",
       "RED                                  object\n",
       "TIPO_INCIDENTE                       object\n",
       "PRIORIDAD                            object\n",
       "RECEPCION                            object\n",
       "dtype: object"
      ]
     },
     "execution_count": 26,
     "metadata": {},
     "output_type": "execute_result"
    }
   ],
   "source": [
    "df.dtypes #que tipo de datos tengo en la tabla"
   ]
  },
  {
   "cell_type": "code",
   "execution_count": 27,
   "metadata": {},
   "outputs": [
    {
     "data": {
      "text/plain": [
       "SIN_DATO    0.475144\n",
       "23          0.011566\n",
       "22          0.010724\n",
       "30          0.010341\n",
       "27          0.010264\n",
       "              ...   \n",
       "7           0.001302\n",
       "98          0.001226\n",
       "9           0.001149\n",
       "8           0.001072\n",
       "97          0.000919\n",
       "Name: EDAD, Length: 100, dtype: float64"
      ]
     },
     "execution_count": 27,
     "metadata": {},
     "output_type": "execute_result"
    }
   ],
   "source": [
    "df[\"EDAD\"].value_counts(normalize=True, dropna=False)"
   ]
  },
  {
   "cell_type": "code",
   "execution_count": 28,
   "metadata": {},
   "outputs": [
    {
     "data": {
      "text/plain": [
       "Index(['UNIDAD', 'GENERO', 'RED'], dtype='object')"
      ]
     },
     "execution_count": 28,
     "metadata": {},
     "output_type": "execute_result"
    }
   ],
   "source": [
    "lista_columnas = df.columns\n",
    "df.columns[5:8]"
   ]
  },
  {
   "cell_type": "code",
   "execution_count": 29,
   "metadata": {},
   "outputs": [
    {
     "data": {
      "text/plain": [
       "21"
      ]
     },
     "execution_count": 29,
     "metadata": {},
     "output_type": "execute_result"
    }
   ],
   "source": [
    "len( df[\"TIPO_INCIDENTE\"].unique() ) #cuenta la cantidad de datos "
   ]
  },
  {
   "cell_type": "code",
   "execution_count": 30,
   "metadata": {},
   "outputs": [
    {
     "data": {
      "text/plain": [
       "array(['Accidente Cerebro Vascular', 'Herido', 'Evento Respiratorio',\n",
       "       'Intento de Suicidio', 'S¡ntomas Gastrointestinales', 'Enfermo',\n",
       "       'Convulsi¢n', 'Ca¡da de Altura', 'Maltrato',\n",
       "       'Inconsciente / Paro cardiorespiratorio',\n",
       "       'Patolog¡a Ginecobst\\x82trica', 'Dolor Tor\\xa0cico',\n",
       "       'Trastorno Mental', 'Intoxicaci¢n', 'Violencia Sexual',\n",
       "       'Amenaza de Suicidio', 'Quemaduras', 'Acompa¤amiento Evento',\n",
       "       'Electrocuci¢n / rescate', 'Solicitud de Apoyo',\n",
       "       'Sangrado Vaginal'], dtype=object)"
      ]
     },
     "execution_count": 30,
     "metadata": {},
     "output_type": "execute_result"
    }
   ],
   "source": [
    "df[\"TIPO_INCIDENTE\"].unique()#trae valores unicos de la columna"
   ]
  },
  {
   "cell_type": "code",
   "execution_count": 31,
   "metadata": {},
   "outputs": [
    {
     "data": {
      "text/plain": [
       "Herido                                    3332\n",
       "Inconsciente / Paro cardiorespiratorio    1840\n",
       "Evento Respiratorio                       1704\n",
       "Convulsi¢n                                1177\n",
       "Enfermo                                    832\n",
       "Trastorno Mental                           758\n",
       "Dolor Tor cico                             706\n",
       "Intento de Suicidio                        675\n",
       "Accidente Cerebro Vascular                 391\n",
       "S¡ntomas Gastrointestinales                377\n",
       "Ca¡da de Altura                            312\n",
       "Patolog¡a Ginecobsttrica                  275\n",
       "Intoxicaci¢n                               260\n",
       "Amenaza de Suicidio                        148\n",
       "Acompa¤amiento Evento                      102\n",
       "Violencia Sexual                            69\n",
       "Maltrato                                    38\n",
       "Electrocuci¢n / rescate                     18\n",
       "Sangrado Vaginal                            18\n",
       "Quemaduras                                  12\n",
       "Solicitud de Apoyo                          11\n",
       "Name: TIPO_INCIDENTE, dtype: int64"
      ]
     },
     "execution_count": 31,
     "metadata": {},
     "output_type": "execute_result"
    }
   ],
   "source": [
    "#verificar la data de cada campo o columna\n",
    "df[\"TIPO_INCIDENTE\"]\n",
    "df[\"TIPO_INCIDENTE\"].value_counts()#contar por grupos"
   ]
  },
  {
   "cell_type": "code",
   "execution_count": 32,
   "metadata": {},
   "outputs": [
    {
     "data": {
      "text/plain": [
       "Herido                                    0.255228\n",
       "Inconsciente / Paro cardiorespiratorio    0.140942\n",
       "Evento Respiratorio                       0.130525\n",
       "Convulsi¢n                                0.090157\n",
       "Enfermo                                   0.063730\n",
       "Trastorno Mental                          0.058062\n",
       "Dolor Tor cico                            0.054079\n",
       "Intento de Suicidio                       0.051704\n",
       "Accidente Cerebro Vascular                0.029950\n",
       "S¡ntomas Gastrointestinales               0.028878\n",
       "Ca¡da de Altura                           0.023899\n",
       "Patolog¡a Ginecobsttrica                 0.021065\n",
       "Intoxicaci¢n                              0.019916\n",
       "Amenaza de Suicidio                       0.011337\n",
       "Acompa¤amiento Evento                     0.007813\n",
       "Violencia Sexual                          0.005285\n",
       "Maltrato                                  0.002911\n",
       "Electrocuci¢n / rescate                   0.001379\n",
       "Sangrado Vaginal                          0.001379\n",
       "Quemaduras                                0.000919\n",
       "Solicitud de Apoyo                        0.000843\n",
       "Name: TIPO_INCIDENTE, dtype: float64"
      ]
     },
     "execution_count": 32,
     "metadata": {},
     "output_type": "execute_result"
    }
   ],
   "source": [
    "#verificar la data de cada campo o columna\n",
    "df[\"TIPO_INCIDENTE\"]\n",
    "df[\"TIPO_INCIDENTE\"].value_counts(normalize=True)#porcentaje por grupos"
   ]
  },
  {
   "cell_type": "code",
   "execution_count": 33,
   "metadata": {},
   "outputs": [
    {
     "name": "stdout",
     "output_type": "stream",
     "text": [
      "columna NUMERO_INCIDENTE 12015\n",
      "columna FECHA_INICIO_DESPLAZAMIENTO_MOVIL 12781\n",
      "columna CODIGO_LOCALIDAD 20\n",
      "columna LOCALIDAD 20\n",
      "columna EDAD 100\n",
      "columna UNIDAD 6\n",
      "columna GENERO 3\n",
      "columna RED 5\n",
      "columna TIPO_INCIDENTE 21\n",
      "columna PRIORIDAD 4\n",
      "columna RECEPCION 5235\n"
     ]
    }
   ],
   "source": [
    "lista_columnas = df.columns\n",
    "\n",
    "for col in lista_columnas:\n",
    "    lista_unicos = df[col].unique() #agrupar valores unicos\n",
    "    n_unicos = len(lista_unicos)\n",
    "    print(\"columna\",col,n_unicos)"
   ]
  },
  {
   "cell_type": "code",
   "execution_count": 34,
   "metadata": {},
   "outputs": [
    {
     "name": "stdout",
     "output_type": "stream",
     "text": [
      "columna NUMERO_INCIDENTE 12015\n",
      "columna FECHA_INICIO_DESPLAZAMIENTO_MOVIL 12781\n",
      "columna CODIGO_LOCALIDAD 20\n",
      "columna LOCALIDAD 20\n",
      "columna EDAD 100\n",
      "columna UNIDAD 6\n",
      "columna GENERO 3\n",
      "columna RED 5\n",
      "columna TIPO_INCIDENTE 21\n",
      "columna PRIORIDAD 4\n",
      "columna RECEPCION 5235\n",
      "fuera del loop\n",
      "{'NUMERO_INCIDENTE': 12015, 'FECHA_INICIO_DESPLAZAMIENTO_MOVIL': 12781, 'CODIGO_LOCALIDAD': 20, 'LOCALIDAD': 20, 'EDAD': 100, 'UNIDAD': 6, 'GENERO': 3, 'RED': 5, 'TIPO_INCIDENTE': 21, 'PRIORIDAD': 4, 'RECEPCION': 5235}\n"
     ]
    }
   ],
   "source": [
    "lista_columnas = df.columns\n",
    "#crear un diccionaro vacio\n",
    "dict_reporte = dict()\n",
    "\n",
    "for col in lista_columnas:\n",
    "    lista_unicos = df[col].unique() #agrupar valores unicos\n",
    "    n_unicos = len(lista_unicos)\n",
    "    dict_reporte[col] = n_unicos\n",
    "    print(\"columna\",col,n_unicos)\n",
    "\n",
    "print(\"fuera del loop\")\n",
    "print(dict_reporte)"
   ]
  },
  {
   "cell_type": "code",
   "execution_count": 35,
   "metadata": {},
   "outputs": [
    {
     "data": {
      "text/html": [
       "<div>\n",
       "<style scoped>\n",
       "    .dataframe tbody tr th:only-of-type {\n",
       "        vertical-align: middle;\n",
       "    }\n",
       "\n",
       "    .dataframe tbody tr th {\n",
       "        vertical-align: top;\n",
       "    }\n",
       "\n",
       "    .dataframe thead th {\n",
       "        text-align: right;\n",
       "    }\n",
       "</style>\n",
       "<table border=\"1\" class=\"dataframe\">\n",
       "  <thead>\n",
       "    <tr style=\"text-align: right;\">\n",
       "      <th></th>\n",
       "      <th>Conteo</th>\n",
       "    </tr>\n",
       "  </thead>\n",
       "  <tbody>\n",
       "    <tr>\n",
       "      <th>NUMERO_INCIDENTE</th>\n",
       "      <td>12015</td>\n",
       "    </tr>\n",
       "    <tr>\n",
       "      <th>FECHA_INICIO_DESPLAZAMIENTO_MOVIL</th>\n",
       "      <td>12781</td>\n",
       "    </tr>\n",
       "    <tr>\n",
       "      <th>CODIGO_LOCALIDAD</th>\n",
       "      <td>20</td>\n",
       "    </tr>\n",
       "    <tr>\n",
       "      <th>LOCALIDAD</th>\n",
       "      <td>20</td>\n",
       "    </tr>\n",
       "    <tr>\n",
       "      <th>EDAD</th>\n",
       "      <td>100</td>\n",
       "    </tr>\n",
       "    <tr>\n",
       "      <th>UNIDAD</th>\n",
       "      <td>6</td>\n",
       "    </tr>\n",
       "    <tr>\n",
       "      <th>GENERO</th>\n",
       "      <td>3</td>\n",
       "    </tr>\n",
       "    <tr>\n",
       "      <th>RED</th>\n",
       "      <td>5</td>\n",
       "    </tr>\n",
       "    <tr>\n",
       "      <th>TIPO_INCIDENTE</th>\n",
       "      <td>21</td>\n",
       "    </tr>\n",
       "    <tr>\n",
       "      <th>PRIORIDAD</th>\n",
       "      <td>4</td>\n",
       "    </tr>\n",
       "    <tr>\n",
       "      <th>RECEPCION</th>\n",
       "      <td>5235</td>\n",
       "    </tr>\n",
       "  </tbody>\n",
       "</table>\n",
       "</div>"
      ],
      "text/plain": [
       "                                   Conteo\n",
       "NUMERO_INCIDENTE                    12015\n",
       "FECHA_INICIO_DESPLAZAMIENTO_MOVIL   12781\n",
       "CODIGO_LOCALIDAD                       20\n",
       "LOCALIDAD                              20\n",
       "EDAD                                  100\n",
       "UNIDAD                                  6\n",
       "GENERO                                  3\n",
       "RED                                     5\n",
       "TIPO_INCIDENTE                         21\n",
       "PRIORIDAD                               4\n",
       "RECEPCION                            5235"
      ]
     },
     "execution_count": 35,
     "metadata": {},
     "output_type": "execute_result"
    }
   ],
   "source": [
    "df_reporte = pd.DataFrame.from_dict(dict_reporte, orient=\"index\")# crear una tabla con el diccionario que tengo con pandas\n",
    "df_reporte.rename({0: \"Conteo\"}, inplace = True, axis=1)# 1 buscar en la columna, 0 en la filas \n",
    "df_reporte\n"
   ]
  },
  {
   "cell_type": "code",
   "execution_count": 36,
   "metadata": {},
   "outputs": [
    {
     "data": {
      "text/plain": [
       "'reporte_llamadas123_julio_2022.csv'"
      ]
     },
     "execution_count": 36,
     "metadata": {},
     "output_type": "execute_result"
    }
   ],
   "source": [
    "out_name = \"reporte_\" + filename #para guardar el arcivo de salida que voy a obtener\n",
    "out_name"
   ]
  },
  {
   "cell_type": "code",
   "execution_count": 37,
   "metadata": {},
   "outputs": [],
   "source": [
    "out_path = os.path.join(root_dir, \"data\", \"processed\", out_name) # guardar el archivo en cvs en la ruta especificada\n",
    "df_reporte.to_csv(out_path)"
   ]
  }
 ],
 "metadata": {
  "kernelspec": {
   "display_name": "Python 3.9.12 ('base')",
   "language": "python",
   "name": "python3"
  },
  "language_info": {
   "codemirror_mode": {
    "name": "ipython",
    "version": 3
   },
   "file_extension": ".py",
   "mimetype": "text/x-python",
   "name": "python",
   "nbconvert_exporter": "python",
   "pygments_lexer": "ipython3",
   "version": "3.9.12"
  },
  "orig_nbformat": 4,
  "vscode": {
   "interpreter": {
    "hash": "533400df562c0dc3167bca312445c22bb8ed30b3b588575c34f7557d474affc5"
   }
  }
 },
 "nbformat": 4,
 "nbformat_minor": 2
}
